{
 "cells": [
  {
   "cell_type": "code",
   "execution_count": 25,
   "metadata": {
    "_cell_guid": "b1076dfc-b9ad-4769-8c92-a6c4dae69d19",
    "_uuid": "8f2839f25d086af736a60e9eeb907d3b93b6e0e5",
    "execution": {
     "iopub.execute_input": "2023-06-11T13:43:38.892541Z",
     "iopub.status.busy": "2023-06-11T13:43:38.892183Z",
     "iopub.status.idle": "2023-06-11T13:43:38.901595Z",
     "shell.execute_reply": "2023-06-11T13:43:38.900265Z",
     "shell.execute_reply.started": "2023-06-11T13:43:38.892517Z"
    }
   },
   "outputs": [
    {
     "name": "stdout",
     "output_type": "stream",
     "text": [
      "/kaggle/input/digit-recognizer/sample_submission.csv\n",
      "/kaggle/input/digit-recognizer/train.csv\n",
      "/kaggle/input/digit-recognizer/test.csv\n"
     ]
    }
   ],
   "source": [
    "# This Python 3 environment comes with many helpful analytics libraries installed\n",
    "# It is defined by the kaggle/python Docker image: https://github.com/kaggle/docker-python\n",
    "# For example, here's several helpful packages to load\n",
    "\n",
    "import numpy as np # linear algebra\n",
    "import pandas as pd # data processing, CSV file I/O (e.g. pd.read_csv)\n",
    "\n",
    "# Input data files are available in the read-only \"../input/\" directory\n",
    "# For example, running this (by clicking run or pressing Shift+Enter) will list all files under the input directory\n",
    "\n",
    "import os\n",
    "for dirname, _, filenames in os.walk('/kaggle/input'):\n",
    "    for filename in filenames:\n",
    "        print(os.path.join(dirname, filename))\n",
    "\n",
    "# You can write up to 20GB to the current directory (/kaggle/working/) that gets preserved as output when you create a version using \"Save & Run All\" \n",
    "# You can also write temporary files to /kaggle/temp/, but they won't be saved outside of the current session"
   ]
  },
  {
   "cell_type": "code",
   "execution_count": 26,
   "metadata": {
    "execution": {
     "iopub.execute_input": "2023-06-11T13:43:41.122376Z",
     "iopub.status.busy": "2023-06-11T13:43:41.121990Z",
     "iopub.status.idle": "2023-06-11T13:43:41.129013Z",
     "shell.execute_reply": "2023-06-11T13:43:41.127305Z",
     "shell.execute_reply.started": "2023-06-11T13:43:41.122344Z"
    }
   },
   "outputs": [],
   "source": [
    "import tensorflow as tf\n",
    "import keras\n",
    "import matplotlib.pyplot as plt"
   ]
  },
  {
   "cell_type": "code",
   "execution_count": 27,
   "metadata": {
    "execution": {
     "iopub.execute_input": "2023-06-11T13:43:42.521932Z",
     "iopub.status.busy": "2023-06-11T13:43:42.521342Z",
     "iopub.status.idle": "2023-06-11T13:43:42.527069Z",
     "shell.execute_reply": "2023-06-11T13:43:42.525882Z",
     "shell.execute_reply.started": "2023-06-11T13:43:42.521904Z"
    }
   },
   "outputs": [],
   "source": [
    "from sklearn.model_selection import train_test_split\n",
    "from keras.models import Sequential,Model\n",
    "from keras.layers import Dense,Conv2D,Conv2DTranspose,Activation,BatchNormalization,Dropout,Flatten,Reshape,Input,LeakyReLU\n",
    "from keras.utils import to_categorical"
   ]
  },
  {
   "cell_type": "code",
   "execution_count": 28,
   "metadata": {
    "execution": {
     "iopub.execute_input": "2023-06-11T13:43:44.272039Z",
     "iopub.status.busy": "2023-06-11T13:43:44.271527Z",
     "iopub.status.idle": "2023-06-11T13:43:48.011795Z",
     "shell.execute_reply": "2023-06-11T13:43:48.008536Z",
     "shell.execute_reply.started": "2023-06-11T13:43:44.272004Z"
    }
   },
   "outputs": [],
   "source": [
    "training_data = pd.read_csv('/kaggle/input/digit-recognizer/train.csv')\n",
    "test_data = pd.read_csv('/kaggle/input/digit-recognizer/train.csv')"
   ]
  },
  {
   "cell_type": "code",
   "execution_count": 33,
   "metadata": {
    "execution": {
     "iopub.execute_input": "2023-06-11T13:44:22.189316Z",
     "iopub.status.busy": "2023-06-11T13:44:22.187681Z",
     "iopub.status.idle": "2023-06-11T13:44:22.199796Z",
     "shell.execute_reply": "2023-06-11T13:44:22.196390Z",
     "shell.execute_reply.started": "2023-06-11T13:44:22.189247Z"
    }
   },
   "outputs": [],
   "source": [
    "img_cols, img_rows,channels = 28,28,1\n",
    "num_classes = 10"
   ]
  },
  {
   "cell_type": "code",
   "execution_count": 34,
   "metadata": {
    "execution": {
     "iopub.execute_input": "2023-06-11T13:44:23.602283Z",
     "iopub.status.busy": "2023-06-11T13:44:23.601918Z",
     "iopub.status.idle": "2023-06-11T13:44:23.610344Z",
     "shell.execute_reply": "2023-06-11T13:44:23.608963Z",
     "shell.execute_reply.started": "2023-06-11T13:44:23.602256Z"
    }
   },
   "outputs": [
    {
     "data": {
      "text/plain": [
       "(42000, 785)"
      ]
     },
     "execution_count": 34,
     "metadata": {},
     "output_type": "execute_result"
    }
   ],
   "source": [
    "training_data.shape"
   ]
  },
  {
   "cell_type": "code",
   "execution_count": 35,
   "metadata": {
    "execution": {
     "iopub.execute_input": "2023-06-11T13:44:24.032521Z",
     "iopub.status.busy": "2023-06-11T13:44:24.031718Z",
     "iopub.status.idle": "2023-06-11T13:44:24.041931Z",
     "shell.execute_reply": "2023-06-11T13:44:24.040091Z",
     "shell.execute_reply.started": "2023-06-11T13:44:24.032463Z"
    }
   },
   "outputs": [],
   "source": [
    "# creating preprocessing function\n",
    "def preproc(raw):\n",
    "    y = to_categorical(raw['label'],num_classes)\n",
    "    tot_img = training_data.shape[0]\n",
    "    x_native = raw.values[:,1:]\n",
    "    x_native_recon = x_native.reshape(tot_img,img_rows,img_cols,1)\n",
    "    x_scaled = x_native_recon/255.0\n",
    "    return x_scaled,y"
   ]
  },
  {
   "cell_type": "code",
   "execution_count": 36,
   "metadata": {
    "execution": {
     "iopub.execute_input": "2023-06-11T13:44:25.041530Z",
     "iopub.status.busy": "2023-06-11T13:44:25.041148Z",
     "iopub.status.idle": "2023-06-11T13:44:25.426252Z",
     "shell.execute_reply": "2023-06-11T13:44:25.424855Z",
     "shell.execute_reply.started": "2023-06-11T13:44:25.041505Z"
    }
   },
   "outputs": [
    {
     "name": "stdout",
     "output_type": "stream",
     "text": [
      "(29400, 28, 28, 1) (12600, 28, 28, 1) (29400, 10) (12600, 10)\n"
     ]
    }
   ],
   "source": [
    "# creating datasets with validation_size = 0.3\n",
    "X_nat,y_nat = preproc(training_data)\n",
    "X_train,X_test,y_train,y_test = train_test_split(X_nat,y_nat,test_size=0.3)\n",
    "print(X_train.shape,X_test.shape,y_train.shape,y_test.shape)"
   ]
  },
  {
   "cell_type": "code",
   "execution_count": 37,
   "metadata": {
    "execution": {
     "iopub.execute_input": "2023-06-11T13:44:37.321656Z",
     "iopub.status.busy": "2023-06-11T13:44:37.321289Z",
     "iopub.status.idle": "2023-06-11T13:44:37.543805Z",
     "shell.execute_reply": "2023-06-11T13:44:37.542501Z",
     "shell.execute_reply.started": "2023-06-11T13:44:37.321631Z"
    }
   },
   "outputs": [
    {
     "data": {
      "text/plain": [
       "<matplotlib.image.AxesImage at 0x7937972dabf0>"
      ]
     },
     "execution_count": 37,
     "metadata": {},
     "output_type": "execute_result"
    },
    {
     "data": {
      "image/png": "[encoded data removed]",
      "text/plain": [
       "<Figure size 640x480 with 1 Axes>"
      ]
     },
     "metadata": {},
     "output_type": "display_data"
    }
   ],
   "source": [
    "plt.imshow(X_train[0])"
   ]
  },
  {
   "cell_type": "code",
   "execution_count": null,
   "metadata": {
    "execution": {
     "iopub.execute_input": "2023-06-11T09:39:04.668364Z",
     "iopub.status.busy": "2023-06-11T09:39:04.667972Z",
     "iopub.status.idle": "2023-06-11T09:39:04.914848Z",
     "shell.execute_reply": "2023-06-11T09:39:04.913584Z",
     "shell.execute_reply.started": "2023-06-11T09:39:04.668335Z"
    }
   },
   "outputs": [],
   "source": []
  },
  {
   "cell_type": "code",
   "execution_count": 39,
   "metadata": {
    "execution": {
     "iopub.execute_input": "2023-06-11T13:49:35.506802Z",
     "iopub.status.busy": "2023-06-11T13:49:35.506407Z",
     "iopub.status.idle": "2023-06-11T13:49:35.513170Z",
     "shell.execute_reply": "2023-06-11T13:49:35.511815Z",
     "shell.execute_reply.started": "2023-06-11T13:49:35.506776Z"
    }
   },
   "outputs": [],
   "source": [
    "\n",
    "from tensorflow.keras import layers"
   ]
  },
  {
   "cell_type": "code",
   "execution_count": null,
   "metadata": {},
   "outputs": [],
   "source": []
  },
  {
   "cell_type": "code",
   "execution_count": 45,
   "metadata": {
    "execution": {
     "iopub.execute_input": "2023-06-11T13:55:45.392739Z",
     "iopub.status.busy": "2023-06-11T13:55:45.392353Z",
     "iopub.status.idle": "2023-06-11T13:55:45.502709Z",
     "shell.execute_reply": "2023-06-11T13:55:45.501008Z",
     "shell.execute_reply.started": "2023-06-11T13:55:45.392708Z"
    }
   },
   "outputs": [],
   "source": [
    "classifier = tf.keras.models.Sequential([\n",
    "    tf.keras.layers.Conv2D(32, (3, 3), activation='relu', input_shape=(28, 28, 1)),\n",
    "    tf.keras.layers.MaxPooling2D((2, 2)),\n",
    "    tf.keras.layers.Conv2D(64, (3, 3), activation='relu'),\n",
    "    tf.keras.layers.MaxPooling2D((2, 2)),\n",
    "    tf.keras.layers.Conv2D(128, (3, 3), activation='relu'),\n",
    "    tf.keras.layers.Flatten(),\n",
    "    tf.keras.layers.Dense(256, activation='relu'),\n",
    "    tf.keras.layers.Dropout(0.5),\n",
    "    tf.keras.layers.Dense(128, activation='relu'),\n",
    "    tf.keras.layers.Dropout(0.5),\n",
    "    tf.keras.layers.Dense(num_classes, activation='softmax')\n",
    "])\n"
   ]
  },
  {
   "cell_type": "code",
   "execution_count": 46,
   "metadata": {
    "execution": {
     "iopub.execute_input": "2023-06-11T13:55:46.001776Z",
     "iopub.status.busy": "2023-06-11T13:55:46.001381Z",
     "iopub.status.idle": "2023-06-11T13:55:46.046101Z",
     "shell.execute_reply": "2023-06-11T13:55:46.044801Z",
     "shell.execute_reply.started": "2023-06-11T13:55:46.001744Z"
    }
   },
   "outputs": [
    {
     "name": "stdout",
     "output_type": "stream",
     "text": [
      "Model: \"sequential_6\"\n",
      "_________________________________________________________________\n",
      " Layer (type)                Output Shape              Param #   \n",
      "=================================================================\n",
      " conv2d_5 (Conv2D)           (None, 26, 26, 32)        320       \n",
      "                                                                 \n",
      " max_pooling2d_4 (MaxPooling  (None, 13, 13, 32)       0         \n",
      " 2D)                                                             \n",
      "                                                                 \n",
      " conv2d_6 (Conv2D)           (None, 11, 11, 64)        18496     \n",
      "                                                                 \n",
      " max_pooling2d_5 (MaxPooling  (None, 5, 5, 64)         0         \n",
      " 2D)                                                             \n",
      "                                                                 \n",
      " conv2d_7 (Conv2D)           (None, 3, 3, 128)         73856     \n",
      "                                                                 \n",
      " flatten_4 (Flatten)         (None, 1152)              0         \n",
      "                                                                 \n",
      " dense_7 (Dense)             (None, 256)               295168    \n",
      "                                                                 \n",
      " dropout_6 (Dropout)         (None, 256)               0         \n",
      "                                                                 \n",
      " dense_8 (Dense)             (None, 128)               32896     \n",
      "                                                                 \n",
      " dropout_7 (Dropout)         (None, 128)               0         \n",
      "                                                                 \n",
      " dense_9 (Dense)             (None, 10)                1290      \n",
      "                                                                 \n",
      "=================================================================\n",
      "Total params: 422,026\n",
      "Trainable params: 422,026\n",
      "Non-trainable params: 0\n",
      "_________________________________________________________________\n"
     ]
    }
   ],
   "source": [
    "\n",
    "classifier.summary()"
   ]
  },
  {
   "cell_type": "code",
   "execution_count": 47,
   "metadata": {
    "execution": {
     "iopub.execute_input": "2023-06-11T13:55:47.526509Z",
     "iopub.status.busy": "2023-06-11T13:55:47.526114Z",
     "iopub.status.idle": "2023-06-11T14:00:19.143760Z",
     "shell.execute_reply": "2023-06-11T14:00:19.141217Z",
     "shell.execute_reply.started": "2023-06-11T13:55:47.526469Z"
    }
   },
   "outputs": [
    {
     "name": "stdout",
     "output_type": "stream",
     "text": [
      "Epoch 1/10\n",
      "1838/1838 [==============================] - 29s 15ms/step - loss: 0.0652 - accuracy: 0.8821\n",
      "Epoch 2/10\n",
      "1838/1838 [==============================] - 27s 15ms/step - loss: 0.0160 - accuracy: 0.9778\n",
      "Epoch 3/10\n",
      "1838/1838 [==============================] - 27s 15ms/step - loss: 0.0116 - accuracy: 0.9843\n",
      "Epoch 4/10\n",
      "1838/1838 [==============================] - 27s 15ms/step - loss: 0.0094 - accuracy: 0.9869\n",
      "Epoch 5/10\n",
      "1838/1838 [==============================] - 27s 15ms/step - loss: 0.0077 - accuracy: 0.9889\n",
      "Epoch 6/10\n",
      "1838/1838 [==============================] - 27s 15ms/step - loss: 0.0068 - accuracy: 0.9914\n",
      "Epoch 7/10\n",
      "1838/1838 [==============================] - 27s 15ms/step - loss: 0.0057 - accuracy: 0.9918\n",
      "Epoch 8/10\n",
      "1838/1838 [==============================] - 27s 15ms/step - loss: 0.0055 - accuracy: 0.9930\n",
      "Epoch 9/10\n",
      "1838/1838 [==============================] - 27s 14ms/step - loss: 0.0043 - accuracy: 0.9938\n",
      "Epoch 10/10\n",
      "1838/1838 [==============================] - 28s 15ms/step - loss: 0.0045 - accuracy: 0.9939\n"
     ]
    },
    {
     "data": {
      "text/plain": [
       "<keras.callbacks.History at 0x7937723f34f0>"
      ]
     },
     "execution_count": 47,
     "metadata": {},
     "output_type": "execute_result"
    }
   ],
   "source": [
    "classifier.compile(optimizer='adam',loss='binary_crossentropy',metrics=['accuracy'])\n",
    "# callback = keras.callbacks.EarlyStopping(monitor='val_loss',\n",
    "#                               min_delta=0,\n",
    "#                               patience=0,\n",
    "#                               verbose=0, mode='auto')\n",
    "classifier.fit(x=X_train,y=y_train,batch_size=16,epochs=10)"
   ]
  },
  {
   "cell_type": "code",
   "execution_count": 48,
   "metadata": {
    "execution": {
     "iopub.execute_input": "2023-06-11T14:00:25.368922Z",
     "iopub.status.busy": "2023-06-11T14:00:25.368430Z",
     "iopub.status.idle": "2023-06-11T14:00:29.223782Z",
     "shell.execute_reply": "2023-06-11T14:00:29.221441Z",
     "shell.execute_reply.started": "2023-06-11T14:00:25.368879Z"
    }
   },
   "outputs": [
    {
     "name": "stdout",
     "output_type": "stream",
     "text": [
      "394/394 [==============================] - 4s 9ms/step\n"
     ]
    }
   ],
   "source": [
    "from sklearn.metrics import accuracy_score\n",
    "pred_valids = classifier.predict(X_test)"
   ]
  },
  {
   "cell_type": "code",
   "execution_count": 49,
   "metadata": {
    "execution": {
     "iopub.execute_input": "2023-06-11T14:00:34.673561Z",
     "iopub.status.busy": "2023-06-11T14:00:34.671849Z",
     "iopub.status.idle": "2023-06-11T14:00:34.679986Z",
     "shell.execute_reply": "2023-06-11T14:00:34.678046Z",
     "shell.execute_reply.started": "2023-06-11T14:00:34.673508Z"
    }
   },
   "outputs": [],
   "source": [
    "pred_val = np.argmax(pred_valids,axis=-1)"
   ]
  },
  {
   "cell_type": "code",
   "execution_count": 50,
   "metadata": {
    "execution": {
     "iopub.execute_input": "2023-06-11T14:00:36.879066Z",
     "iopub.status.busy": "2023-06-11T14:00:36.878470Z",
     "iopub.status.idle": "2023-06-11T14:00:36.890729Z",
     "shell.execute_reply": "2023-06-11T14:00:36.888032Z",
     "shell.execute_reply.started": "2023-06-11T14:00:36.879025Z"
    }
   },
   "outputs": [
    {
     "data": {
      "text/plain": [
       "0.9915079365079366"
      ]
     },
     "execution_count": 50,
     "metadata": {},
     "output_type": "execute_result"
    }
   ],
   "source": [
    "accuracy_score(pred_val, np.argmax(y_test, axis=-1))"
   ]
  },
  {
   "cell_type": "code",
   "execution_count": 51,
   "metadata": {
    "execution": {
     "iopub.execute_input": "2023-06-11T14:00:41.233365Z",
     "iopub.status.busy": "2023-06-11T14:00:41.232621Z",
     "iopub.status.idle": "2023-06-11T14:00:43.246171Z",
     "shell.execute_reply": "2023-06-11T14:00:43.244232Z",
     "shell.execute_reply.started": "2023-06-11T14:00:41.233301Z"
    }
   },
   "outputs": [],
   "source": [
    "Test_Data = pd.read_csv('/kaggle/input/digit-recognizer/test.csv')\n",
    "tot_img_test = Test_Data.shape[0]\n",
    "test_native = Test_Data.values[:,:]\n",
    "test_native_recon = test_native.reshape(tot_img_test,img_rows,img_cols,1)\n",
    "test_final = test_native_recon/255.0"
   ]
  },
  {
   "cell_type": "code",
   "execution_count": 52,
   "metadata": {
    "execution": {
     "iopub.execute_input": "2023-06-11T14:00:45.543047Z",
     "iopub.status.busy": "2023-06-11T14:00:45.542586Z",
     "iopub.status.idle": "2023-06-11T14:00:54.559999Z",
     "shell.execute_reply": "2023-06-11T14:00:54.558451Z",
     "shell.execute_reply.started": "2023-06-11T14:00:45.543020Z"
    }
   },
   "outputs": [
    {
     "name": "stdout",
     "output_type": "stream",
     "text": [
      "875/875 [==============================] - 8s 10ms/step\n"
     ]
    }
   ],
   "source": [
    "test_final_preds =  classifier.predict(test_final)\n",
    "test_preds = np.argmax(test_final_preds,axis=-1)"
   ]
  },
  {
   "cell_type": "code",
   "execution_count": 53,
   "metadata": {
    "execution": {
     "iopub.execute_input": "2023-06-11T14:00:56.402804Z",
     "iopub.status.busy": "2023-06-11T14:00:56.401246Z",
     "iopub.status.idle": "2023-06-11T14:00:56.454350Z",
     "shell.execute_reply": "2023-06-11T14:00:56.451741Z",
     "shell.execute_reply.started": "2023-06-11T14:00:56.402767Z"
    }
   },
   "outputs": [],
   "source": [
    "output = pd.DataFrame({'Label': test_preds}).reset_index(drop=True)\n",
    "output.index += 1\n",
    "output.to_csv('output.csv', index_label='ImageId')"
   ]
  },
  {
   "cell_type": "code",
   "execution_count": null,
   "metadata": {},
   "outputs": [],
   "source": []
  }
 ],
 "metadata": {
  "kernelspec": {
   "display_name": "Python 3 (ipykernel)",
   "language": "python",
   "name": "python3"
  },
  "language_info": {
   "codemirror_mode": {
    "name": "ipython",
    "version": 3
   },
   "file_extension": ".py",
   "mimetype": "text/x-python",
   "name": "python",
   "nbconvert_exporter": "python",
   "pygments_lexer": "ipython3",
   "version": "3.9.7"
  }
 },
 "nbformat": 4,
 "nbformat_minor": 4
}
